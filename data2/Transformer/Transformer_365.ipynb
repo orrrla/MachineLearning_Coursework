{
 "cells": [
  {
   "cell_type": "code",
   "execution_count": 2,
   "metadata": {},
   "outputs": [],
   "source": [
    "import torch\n",
    "from torch import nn\n",
    "from model import TransformerModel\n",
    "import numpy as np\n",
    "import pandas as pd\n",
    "import random\n",
    "from sklearn.preprocessing import MinMaxScaler\n",
    "from sklearn.metrics import mean_absolute_error, mean_squared_error"
   ]
  },
  {
   "cell_type": "code",
   "execution_count": 3,
   "metadata": {},
   "outputs": [],
   "source": [
    "train_data_path = \"../../train_daily.csv\"\n",
    "test_data_path = \"../../test_daily.csv\""
   ]
  },
  {
   "cell_type": "code",
   "execution_count": 4,
   "metadata": {},
   "outputs": [
    {
     "name": "stdout",
     "output_type": "stream",
     "text": [
      "X_train shape: (657, 90, 7)\n",
      "y_train shape: (657, 365)\n",
      "X_test  shape: (331, 90, 7)\n",
      "y_test  shape: (331, 365)\n"
     ]
    }
   ],
   "source": [
    "input_hours = 90       # 输入序列长度（90天）\n",
    "output_hours = 365 \n",
    "\n",
    "use_cols = [\n",
    "    'Global_active_power','Global_reactive_power',\n",
    "    'Global_intensity','Sub_metering_1',\n",
    "    'Sub_metering_2','Sub_metering_3',\n",
    "    'sub_metering_remainder'\n",
    "]\n",
    "\n",
    "def load_hourly(path):\n",
    "    df = pd.read_csv(path, parse_dates=['DateTime'])\n",
    "    df.sort_values('DateTime', inplace=True)\n",
    "    df.reset_index(drop=True, inplace=True)\n",
    "\n",
    "    # 计算 sub_metering_remainder\n",
    "    df[\"sub_metering_remainder\"] = (\n",
    "        df[\"Global_active_power\"] * 1000 / 60\n",
    "        - df[\"Sub_metering_1\"]\n",
    "        - df[\"Sub_metering_2\"]\n",
    "        - df[\"Sub_metering_3\"]\n",
    "    ).clip(lower=0)\n",
    "\n",
    "    df = df[['DateTime'] + use_cols].copy()\n",
    "    df.ffill(inplace=True)\n",
    "    df.bfill(inplace=True)\n",
    "    return df\n",
    "\n",
    "train_df = load_hourly(train_data_path)\n",
    "test_df  = load_hourly(test_data_path) \n",
    "\n",
    "\n",
    "full_df = pd.concat([train_df, test_df], ignore_index=True)\n",
    "\n",
    "# ========= 标准化 ========= #\n",
    "# scaler = MinMaxScaler()\n",
    "# scaled = scaler.fit_transform(full_df[use_cols])\n",
    "# target = scaled[:, 0]  # 目标值：Global_active_power\n",
    "scaled = full_df[use_cols].values  # 直接使用原始值\n",
    "target = scaled[:, 0]\n",
    "\n",
    "\n",
    "# ========= 滑动窗口构造函数 ========= #\n",
    "def build_samples(data, target, input_len, output_len, step=1):\n",
    "    X, y = [], []\n",
    "    for i in range(input_len, len(data) - output_len + 1, step):\n",
    "        X.append(data[i - input_len:i])\n",
    "        y.append(target[i:i + output_len])\n",
    "    return np.array(X), np.array(y)\n",
    "\n",
    "# ========= 构建样本 ========= #\n",
    "X_all, y_all = build_samples(scaled, target, input_hours, output_hours, step=1)\n",
    "\n",
    "\n",
    "# ========= 拆分 train / test ========= #\n",
    "split_index = len(train_df) - input_hours  # 同样逻辑保证 test 在真实 test 部分\n",
    "X_train = X_all[:split_index]\n",
    "y_train = y_all[:split_index]\n",
    "X_test  = X_all[split_index:]\n",
    "y_test  = y_all[split_index:]\n",
    "\n",
    "\n",
    "print(f\"X_train shape: {X_train.shape}\")\n",
    "print(f\"y_train shape: {y_train.shape}\")\n",
    "print(f\"X_test  shape: {X_test.shape}\")\n",
    "print(f\"y_test  shape: {y_test.shape}\")"
   ]
  },
  {
   "cell_type": "code",
   "execution_count": 5,
   "metadata": {},
   "outputs": [],
   "source": [
    "from torch.utils.data import TensorDataset, DataLoader, random_split\n",
    "import matplotlib.pyplot as plt\n",
    "import os\n",
    "\n",
    "device = torch.device(\"cuda:1\" if torch.cuda.is_available() else \"cpu\")\n",
    "batch_size = 16\n",
    "\n",
    "train_ds = TensorDataset(\n",
    "    torch.tensor(X_train, dtype=torch.float32),\n",
    "    torch.tensor(y_train, dtype=torch.float32)\n",
    ")\n",
    "val_size = int(len(train_ds) * 0.2)\n",
    "train_size = len(train_ds) - val_size\n",
    "train_subset, val_subset = random_split(train_ds, [train_size, val_size])\n",
    "\n",
    "train_loader = DataLoader(train_subset, batch_size=batch_size, shuffle=True)\n",
    "val_loader = DataLoader(val_subset, batch_size=batch_size, shuffle=False)"
   ]
  },
  {
   "cell_type": "code",
   "execution_count": 5,
   "metadata": {},
   "outputs": [
    {
     "name": "stdout",
     "output_type": "stream",
     "text": [
      "\n",
      "=== Run 1 ===\n",
      "Run 1 | Epoch 010 | Train Loss: 0.176536 | Val Loss: 0.147792 | MAE: 0.2981 | MSE: 0.1478\n",
      "Run 1 | Epoch 020 | Train Loss: 0.140201 | Val Loss: 0.132054 | MAE: 0.2818 | MSE: 0.1321\n",
      "Run 1 | Epoch 030 | Train Loss: 0.108019 | Val Loss: 0.145337 | MAE: 0.3007 | MSE: 0.1453\n",
      "Early stopping at epoch 31\n",
      "\n",
      "=== Run 2 ===\n",
      "Run 2 | Epoch 010 | Train Loss: 0.170812 | Val Loss: 0.153128 | MAE: 0.3060 | MSE: 0.1531\n",
      "Run 2 | Epoch 020 | Train Loss: 0.128853 | Val Loss: 0.133375 | MAE: 0.2840 | MSE: 0.1334\n",
      "Run 2 | Epoch 030 | Train Loss: 0.100809 | Val Loss: 0.132856 | MAE: 0.2847 | MSE: 0.1329\n",
      "Early stopping at epoch 37\n",
      "\n",
      "=== Run 3 ===\n",
      "Run 3 | Epoch 010 | Train Loss: 0.162807 | Val Loss: 0.140158 | MAE: 0.2899 | MSE: 0.1402\n",
      "Run 3 | Epoch 020 | Train Loss: 0.123119 | Val Loss: 0.131320 | MAE: 0.2814 | MSE: 0.1313\n",
      "Run 3 | Epoch 030 | Train Loss: 0.101312 | Val Loss: 0.133045 | MAE: 0.2837 | MSE: 0.1330\n",
      "Early stopping at epoch 37\n",
      "\n",
      "=== Run 4 ===\n",
      "Run 4 | Epoch 010 | Train Loss: 0.161936 | Val Loss: 0.135452 | MAE: 0.2847 | MSE: 0.1355\n",
      "Run 4 | Epoch 020 | Train Loss: 0.126232 | Val Loss: 0.130334 | MAE: 0.2812 | MSE: 0.1303\n",
      "Run 4 | Epoch 030 | Train Loss: 0.094509 | Val Loss: 0.127971 | MAE: 0.2798 | MSE: 0.1280\n",
      "Early stopping at epoch 38\n",
      "\n",
      "=== Run 5 ===\n",
      "Run 5 | Epoch 010 | Train Loss: 0.166469 | Val Loss: 0.144303 | MAE: 0.2941 | MSE: 0.1443\n",
      "Run 5 | Epoch 020 | Train Loss: 0.126964 | Val Loss: 0.149431 | MAE: 0.3043 | MSE: 0.1494\n",
      "Run 5 | Epoch 030 | Train Loss: 0.101247 | Val Loss: 0.145065 | MAE: 0.2989 | MSE: 0.1451\n",
      "Early stopping at epoch 32\n",
      "\n",
      "=== Final Evaluation over 5 Runs ===\n",
      "MAE: mean = 0.2755, std = 0.0028\n",
      "MSE: mean = 0.1259, std = 0.0030\n"
     ]
    }
   ],
   "source": [
    "# 保存所有 loss 用于计算平均曲线\n",
    "all_train_losses = []\n",
    "all_val_losses = []\n",
    "mae_list = []\n",
    "mse_list = []\n",
    "\n",
    "for run in range(1, 6):\n",
    "    print(f\"\\n=== Run {run} ===\")\n",
    "    SEED = 42 + run  # 每组不同 seed\n",
    "    torch.manual_seed(SEED)\n",
    "    np.random.seed(SEED)\n",
    "    random.seed(SEED)\n",
    "    torch.cuda.manual_seed_all(SEED)\n",
    "    torch.backends.cudnn.deterministic = True\n",
    "    torch.backends.cudnn.benchmark = False\n",
    "\n",
    "    model = TransformerModel(\n",
    "        input_dim=7,\n",
    "        d_model=256,\n",
    "        nhead=8,\n",
    "        num_layers=3,\n",
    "        output_seq_len=365,\n",
    "        dropout=0.3,\n",
    "        input_seq_len=90  # 这是你实际的序列长度\n",
    "    ).to(device)\n",
    "\n",
    "    criterion = nn.MSELoss()\n",
    "    optimizer = torch.optim.Adam(model.parameters(), lr=3e-5)\n",
    "\n",
    "    train_losses, val_losses = [], []\n",
    "    best_val = float('inf')\n",
    "    best_model = None\n",
    "    best_mae = None\n",
    "    best_mse = None\n",
    "    patience = 10\n",
    "    no_improve = 0\n",
    "\n",
    "    for epoch in range(1, 101):\n",
    "        model.train()\n",
    "        total_train_loss = 0\n",
    "        for xb, yb in train_loader:\n",
    "            xb, yb = xb.to(device), yb.to(device)\n",
    "            optimizer.zero_grad()\n",
    "            pred = model(xb, src_mask=None)\n",
    "            loss = criterion(pred, yb)\n",
    "            loss.backward()\n",
    "            optimizer.step()\n",
    "            total_train_loss += loss.item() * xb.size(0)\n",
    "        avg_train = total_train_loss / len(train_subset)\n",
    "        train_losses.append(avg_train)\n",
    "\n",
    "        # 验证\n",
    "        all_preds, all_gts = [], []\n",
    "        model.eval()\n",
    "        total_val_loss = 0\n",
    "        with torch.no_grad():\n",
    "            for xb, yb in val_loader:\n",
    "                xb, yb = xb.to(device), yb.to(device)\n",
    "                pred = model(xb, src_mask=None)\n",
    "                loss = criterion(pred, yb)\n",
    "                total_val_loss += loss.item() * xb.size(0)\n",
    "                all_preds.append(pred.cpu().numpy())\n",
    "                all_gts.append(yb.cpu().numpy())\n",
    "\n",
    "\n",
    "        all_preds = np.concatenate(all_preds, axis=0)\n",
    "        all_gts = np.concatenate(all_gts, axis=0)\n",
    "\n",
    "        avg_val = total_val_loss / len(val_subset)\n",
    "        val_losses.append(avg_val)\n",
    "\n",
    "        val_mae = mean_absolute_error(all_gts, all_preds)\n",
    "        val_mse = mean_squared_error(all_gts, all_preds)\n",
    "        if epoch % 10 == 0:\n",
    "            print(f\"Run {run} | Epoch {epoch:03d} | Train Loss: {avg_train:.6f} | \"\n",
    "            f\"Val Loss: {avg_val:.6f} | MAE: {val_mae:.4f} | MSE: {val_mse:.4f}\")\n",
    "\n",
    "        # 保存最优模型\n",
    "        if avg_val < best_val:\n",
    "            best_val = avg_val\n",
    "            best_model = model.state_dict()\n",
    "            best_mae = val_mae\n",
    "            best_mse = val_mse\n",
    "            torch.save(best_model, f\"output/models/pred365/run_{run}.pth\")\n",
    "            no_improve = 0\n",
    "        else:\n",
    "            no_improve += 1\n",
    "            if no_improve >= patience:\n",
    "                print(f\"Early stopping at epoch {epoch}\")\n",
    "                break\n",
    "\n",
    "    # 保存单组loss图\n",
    "    plt.figure(figsize=(8, 5))\n",
    "    plt.plot(train_losses, label=\"Train MSE\")\n",
    "    plt.plot(val_losses, label=\"Val MSE\")\n",
    "    plt.xlabel(\"Epoch\")\n",
    "    plt.ylabel(\"Loss (MSE)\")\n",
    "    plt.title(f\"Loss Curve - Run {run}\")\n",
    "    plt.legend()\n",
    "    plt.grid(True)\n",
    "    plt.tight_layout()\n",
    "    plt.savefig(f\"output/pics/loss/pred365/run_{run}.png\", dpi=300)\n",
    "    plt.close()\n",
    "\n",
    "    # 收集供后续平均绘图\n",
    "    all_train_losses.append(train_losses)\n",
    "    all_val_losses.append(val_losses)\n",
    "    mae_list.append(best_mae)\n",
    "    mse_list.append(best_mse)\n",
    "\n",
    "    \n",
    "print(\"\\n=== Final Evaluation over 5 Runs ===\")\n",
    "print(f\"MAE: mean = {np.mean(mae_list):.4f}, std = {np.std(mae_list):.4f}\")\n",
    "print(f\"MSE: mean = {np.mean(mse_list):.4f}, std = {np.std(mse_list):.4f}\")\n"
   ]
  },
  {
   "cell_type": "code",
   "execution_count": 6,
   "metadata": {},
   "outputs": [
    {
     "data": {
      "image/png": "[encoded data removed]",
      "text/plain": [
       "<Figure size 800x500 with 1 Axes>"
      ]
     },
     "metadata": {},
     "output_type": "display_data"
    }
   ],
   "source": [
    "max_len = max(len(x) for x in all_train_losses)\n",
    "\n",
    "def pad(arr):\n",
    "    return np.array([x + [x[-1]] * (max_len - len(x)) for x in arr])\n",
    "\n",
    "avg_train = pad(all_train_losses).mean(axis=0)\n",
    "avg_val   = pad(all_val_losses).mean(axis=0)\n",
    "\n",
    "plt.figure(figsize=(8, 5))\n",
    "plt.plot(avg_train, label=\"Avg Train MSE\")\n",
    "plt.plot(avg_val, label=\"Avg Val MSE\")\n",
    "plt.xlabel(\"Epoch\")\n",
    "plt.ylabel(\"Loss (MSE)\")\n",
    "plt.title(\"Average Loss over 5 Runs (BiLSTM 90→365)\")\n",
    "plt.legend()\n",
    "plt.grid(True)\n",
    "plt.tight_layout()\n",
    "plt.savefig(\"output/pics/loss/pred365/avg_loss_over_5_runs.png\", dpi=300)\n",
    "plt.show()"
   ]
  },
  {
   "cell_type": "code",
   "execution_count": 9,
   "metadata": {},
   "outputs": [
    {
     "data": {
      "text/plain": [
       "(331, 365)"
      ]
     },
     "execution_count": 9,
     "metadata": {},
     "output_type": "execute_result"
    }
   ],
   "source": [
    "y_test.shape"
   ]
  },
  {
   "cell_type": "code",
   "execution_count": 6,
   "metadata": {},
   "outputs": [
    {
     "name": "stdout",
     "output_type": "stream",
     "text": [
      "\n",
      "=== Run 1 Evaluation ===\n"
     ]
    },
    {
     "name": "stderr",
     "output_type": "stream",
     "text": [
      "/tmp/ipykernel_839036/2106194903.py:26: FutureWarning: You are using `torch.load` with `weights_only=False` (the current default value), which uses the default pickle module implicitly. It is possible to construct malicious pickle data which will execute arbitrary code during unpickling (See https://github.com/pytorch/pytorch/blob/main/SECURITY.md#untrusted-models for more details). In a future release, the default value for `weights_only` will be flipped to `True`. This limits the functions that could be executed during unpickling. Arbitrary objects will no longer be allowed to be loaded via this mode unless they are explicitly allowlisted by the user via `torch.serialization.add_safe_globals`. We recommend you start setting `weights_only=True` for any use case where you don't have full control of the loaded file. Please open an issue on GitHub for any issues related to this experimental feature.\n",
      "  model.load_state_dict(torch.load(f\"output/models/pred365/run_{run}.pth\"))\n"
     ]
    },
    {
     "name": "stdout",
     "output_type": "stream",
     "text": [
      "[Run 1] MAE (day): mean = 0.2631, std = 0.0022\n",
      "[Run 1] MSE (day): mean = 0.1105, std = 0.0025\n",
      "\n",
      "=== Run 2 Evaluation ===\n"
     ]
    },
    {
     "name": "stderr",
     "output_type": "stream",
     "text": [
      "/tmp/ipykernel_839036/2106194903.py:26: FutureWarning: You are using `torch.load` with `weights_only=False` (the current default value), which uses the default pickle module implicitly. It is possible to construct malicious pickle data which will execute arbitrary code during unpickling (See https://github.com/pytorch/pytorch/blob/main/SECURITY.md#untrusted-models for more details). In a future release, the default value for `weights_only` will be flipped to `True`. This limits the functions that could be executed during unpickling. Arbitrary objects will no longer be allowed to be loaded via this mode unless they are explicitly allowlisted by the user via `torch.serialization.add_safe_globals`. We recommend you start setting `weights_only=True` for any use case where you don't have full control of the loaded file. Please open an issue on GitHub for any issues related to this experimental feature.\n",
      "  model.load_state_dict(torch.load(f\"output/models/pred365/run_{run}.pth\"))\n"
     ]
    },
    {
     "name": "stdout",
     "output_type": "stream",
     "text": [
      "[Run 2] MAE (day): mean = 0.2539, std = 0.0047\n",
      "[Run 2] MSE (day): mean = 0.1049, std = 0.0060\n",
      "\n",
      "=== Run 3 Evaluation ===\n"
     ]
    },
    {
     "name": "stderr",
     "output_type": "stream",
     "text": [
      "/tmp/ipykernel_839036/2106194903.py:26: FutureWarning: You are using `torch.load` with `weights_only=False` (the current default value), which uses the default pickle module implicitly. It is possible to construct malicious pickle data which will execute arbitrary code during unpickling (See https://github.com/pytorch/pytorch/blob/main/SECURITY.md#untrusted-models for more details). In a future release, the default value for `weights_only` will be flipped to `True`. This limits the functions that could be executed during unpickling. Arbitrary objects will no longer be allowed to be loaded via this mode unless they are explicitly allowlisted by the user via `torch.serialization.add_safe_globals`. We recommend you start setting `weights_only=True` for any use case where you don't have full control of the loaded file. Please open an issue on GitHub for any issues related to this experimental feature.\n",
      "  model.load_state_dict(torch.load(f\"output/models/pred365/run_{run}.pth\"))\n"
     ]
    },
    {
     "name": "stdout",
     "output_type": "stream",
     "text": [
      "[Run 3] MAE (day): mean = 0.2853, std = 0.0114\n",
      "[Run 3] MSE (day): mean = 0.1301, std = 0.0094\n",
      "\n",
      "=== Run 4 Evaluation ===\n"
     ]
    },
    {
     "name": "stderr",
     "output_type": "stream",
     "text": [
      "/tmp/ipykernel_839036/2106194903.py:26: FutureWarning: You are using `torch.load` with `weights_only=False` (the current default value), which uses the default pickle module implicitly. It is possible to construct malicious pickle data which will execute arbitrary code during unpickling (See https://github.com/pytorch/pytorch/blob/main/SECURITY.md#untrusted-models for more details). In a future release, the default value for `weights_only` will be flipped to `True`. This limits the functions that could be executed during unpickling. Arbitrary objects will no longer be allowed to be loaded via this mode unless they are explicitly allowlisted by the user via `torch.serialization.add_safe_globals`. We recommend you start setting `weights_only=True` for any use case where you don't have full control of the loaded file. Please open an issue on GitHub for any issues related to this experimental feature.\n",
      "  model.load_state_dict(torch.load(f\"output/models/pred365/run_{run}.pth\"))\n"
     ]
    },
    {
     "name": "stdout",
     "output_type": "stream",
     "text": [
      "[Run 4] MAE (day): mean = 0.2635, std = 0.0110\n",
      "[Run 4] MSE (day): mean = 0.1148, std = 0.0100\n",
      "\n",
      "=== Run 5 Evaluation ===\n"
     ]
    },
    {
     "name": "stderr",
     "output_type": "stream",
     "text": [
      "/tmp/ipykernel_839036/2106194903.py:26: FutureWarning: You are using `torch.load` with `weights_only=False` (the current default value), which uses the default pickle module implicitly. It is possible to construct malicious pickle data which will execute arbitrary code during unpickling (See https://github.com/pytorch/pytorch/blob/main/SECURITY.md#untrusted-models for more details). In a future release, the default value for `weights_only` will be flipped to `True`. This limits the functions that could be executed during unpickling. Arbitrary objects will no longer be allowed to be loaded via this mode unless they are explicitly allowlisted by the user via `torch.serialization.add_safe_globals`. We recommend you start setting `weights_only=True` for any use case where you don't have full control of the loaded file. Please open an issue on GitHub for any issues related to this experimental feature.\n",
      "  model.load_state_dict(torch.load(f\"output/models/pred365/run_{run}.pth\"))\n"
     ]
    },
    {
     "name": "stdout",
     "output_type": "stream",
     "text": [
      "[Run 5] MAE (day): mean = 0.4082, std = 0.0149\n",
      "[Run 5] MSE (day): mean = 0.2444, std = 0.0136\n",
      "\n",
      "=== Averaged Prediction over 5 Models ===\n"
     ]
    }
   ],
   "source": [
    "import os\n",
    "import numpy as np\n",
    "import matplotlib.pyplot as plt\n",
    "from sklearn.metrics import mean_absolute_error, mean_squared_error\n",
    "import torch\n",
    "\n",
    "gts_day = y_test\n",
    "device=\"cuda:3\"\n",
    "# 缓存所有模型预测\n",
    "all_model_preds_day = []\n",
    "\n",
    "for run in range(1, 6):\n",
    "    print(f\"\\n=== Run {run} Evaluation ===\")\n",
    "\n",
    "    # 加载模型\n",
    "\n",
    "    model = TransformerModel(\n",
    "        input_dim=7,\n",
    "        d_model=256,\n",
    "        nhead=8,\n",
    "        num_layers=3,\n",
    "        output_seq_len=365,\n",
    "        dropout=0.3,\n",
    "        input_seq_len=90  # 这是你实际的序列长度\n",
    "    ).to(device)\n",
    "    model.load_state_dict(torch.load(f\"output/models/pred365/run_{run}.pth\"))\n",
    "    model.eval()\n",
    "\n",
    "    # 推理\n",
    "    test_ds = torch.utils.data.TensorDataset(\n",
    "        torch.tensor(X_test, dtype=torch.float32),\n",
    "        torch.tensor(y_test, dtype=torch.float32)\n",
    "    )\n",
    "    test_loader = torch.utils.data.DataLoader(test_ds, batch_size=256, shuffle=False)\n",
    "\n",
    "    preds = []\n",
    "    with torch.no_grad():\n",
    "        for xb, _ in test_loader:\n",
    "            xb = xb.to(device)\n",
    "            pred = model(xb, src_mask=None).cpu().numpy()\n",
    "            preds.append(pred)\n",
    "    preds = np.concatenate(preds, axis=0)  \n",
    "    preds_day = preds  # 不要再 reshape\n",
    "\n",
    "\n",
    "    all_model_preds_day.append(preds_day)  # 保留每组 day 级预测\n",
    "\n",
    "    # ==== 多样本评估 ====\n",
    "    sample_ids = [5 * (run - 1) + i for i in range(5)]  # 每组画 5 个样本\n",
    "    mae_list = []\n",
    "    mse_list = []\n",
    "\n",
    "    for idx in sample_ids:\n",
    "        gt = gts_day[idx]\n",
    "        pred = preds_day[idx]\n",
    "        mae = mean_absolute_error(gt, pred)\n",
    "        mse = mean_squared_error(gt, pred)\n",
    "        mae_list.append(mae)\n",
    "        mse_list.append(mse)\n",
    "\n",
    "        # 图保存\n",
    "        plt.figure(figsize=(10, 4.5))\n",
    "        plt.plot(gt, label=\"Ground Truth\", linewidth=2)\n",
    "        plt.plot(pred, label=\"Prediction\", linewidth=2)\n",
    "        plt.xlabel(\"Day\")\n",
    "        plt.ylabel(\"Avg Power (kW)\")\n",
    "        plt.title(f\"Run {run} - Sample {idx} | MAE: {mae:.4f}, MSE: {mse:.4f}\")\n",
    "        plt.xticks(np.arange(0, 366, 20), labels=[str(i+1) for i in range(0, 366, 20)])\n",
    "        plt.grid(True)\n",
    "        plt.legend()\n",
    "        plt.tight_layout()\n",
    "        plt.savefig(f\"output/pics/comparison/pred365/run_{run}_sample_{idx}.png\", dpi=300)\n",
    "        plt.close()\n",
    "\n",
    "    # 打印指标\n",
    "    print(f\"[Run {run}] MAE (day): mean = {np.mean(mae_list):.4f}, std = {np.std(mae_list):.4f}\")\n",
    "    print(f\"[Run {run}] MSE (day): mean = {np.mean(mse_list):.4f}, std = {np.std(mse_list):.4f}\")\n",
    "\n",
    "# ==== 平均预测绘图 ====\n",
    "print(\"\\n=== Averaged Prediction over 5 Models ===\")\n",
    "for i in range(5):  # 样本编号：0~4\n",
    "    idx = i * 5\n",
    "    gt = gts_day[idx]\n",
    "\n",
    "    preds_across_models = [preds_day[idx] for preds_day in all_model_preds_day]\n",
    "    avg_pred = np.mean(preds_across_models, axis=0)\n",
    "\n",
    "    mae = mean_absolute_error(gt, avg_pred)\n",
    "    mse = mean_squared_error(gt, avg_pred)\n",
    "\n",
    "    plt.figure(figsize=(10, 4.5))\n",
    "    plt.plot(gt, label=\"Ground Truth\")\n",
    "    plt.plot(avg_pred, label=\"Prediction\")\n",
    "    plt.xlabel(\"Days into the Future\")\n",
    "    plt.ylabel(\"Daily Global Active Power (Sum)\")\n",
    "    plt.title(f\"Transformer: 365-Day Power Consumption Prediction\")\n",
    "    plt.xticks(np.arange(0, 366, 20), labels=[str(i+1) for i in range(0, 366, 20)])\n",
    "    plt.grid(True)\n",
    "    plt.legend()\n",
    "    plt.tight_layout()\n",
    "    plt.savefig(f\"output/pics/comparison/pred365/avg_sample_{idx}.png\", dpi=300)\n",
    "    plt.close()"
   ]
  },
  {
   "cell_type": "code",
   "execution_count": null,
   "metadata": {},
   "outputs": [],
   "source": []
  }
 ],
 "metadata": {
  "kernelspec": {
   "display_name": "ml",
   "language": "python",
   "name": "python3"
  },
  "language_info": {
   "codemirror_mode": {
    "name": "ipython",
    "version": 3
   },
   "file_extension": ".py",
   "mimetype": "text/x-python",
   "name": "python",
   "nbconvert_exporter": "python",
   "pygments_lexer": "ipython3",
   "version": "3.10.18"
  }
 },
 "nbformat": 4,
 "nbformat_minor": 2
}
