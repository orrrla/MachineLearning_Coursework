{
 "cells": [
  {
   "cell_type": "code",
   "execution_count": 1,
   "metadata": {},
   "outputs": [
    {
     "ename": "NameError",
     "evalue": "name 'X_test' is not defined",
     "output_type": "error",
     "traceback": [
      "\u001b[0;31m---------------------------------------------------------------------------\u001b[0m",
      "\u001b[0;31mNameError\u001b[0m                                 Traceback (most recent call last)",
      "Cell \u001b[0;32mIn[1], line 14\u001b[0m\n\u001b[1;32m     11\u001b[0m rolling_preds \u001b[38;5;241m=\u001b[39m []\n\u001b[1;32m     13\u001b[0m \u001b[38;5;66;03m# 初始输入：X_test 中的第一个样本\u001b[39;00m\n\u001b[0;32m---> 14\u001b[0m x \u001b[38;5;241m=\u001b[39m torch\u001b[38;5;241m.\u001b[39mtensor(\u001b[43mX_test\u001b[49m[\u001b[38;5;241m0\u001b[39m], dtype\u001b[38;5;241m=\u001b[39mtorch\u001b[38;5;241m.\u001b[39mfloat32)\u001b[38;5;241m.\u001b[39munsqueeze(\u001b[38;5;241m0\u001b[39m)\u001b[38;5;241m.\u001b[39mto(device)  \u001b[38;5;66;03m# shape: (1, 2160, 7)\u001b[39;00m\n\u001b[1;32m     16\u001b[0m \u001b[38;5;66;03m# 加载训练好的最佳模型（假设 run_1 为最优）\u001b[39;00m\n\u001b[1;32m     17\u001b[0m model \u001b[38;5;241m=\u001b[39m BiLSTM_FullOutput(\n\u001b[1;32m     18\u001b[0m     input_size\u001b[38;5;241m=\u001b[39m\u001b[38;5;241m7\u001b[39m,\n\u001b[1;32m     19\u001b[0m     hidden_size\u001b[38;5;241m=\u001b[39m\u001b[38;5;241m128\u001b[39m,\n\u001b[0;32m   (...)\u001b[0m\n\u001b[1;32m     22\u001b[0m     dropout\u001b[38;5;241m=\u001b[39m\u001b[38;5;241m0.3\u001b[39m\n\u001b[1;32m     23\u001b[0m )\u001b[38;5;241m.\u001b[39mto(device)\n",
      "\u001b[0;31mNameError\u001b[0m: name 'X_test' is not defined"
     ]
    }
   ],
   "source": [
    "import numpy as np\n",
    "import torch\n",
    "from tqdm import tqdm\n",
    "\n",
    "# 参数定义\n",
    "input_len = 90 * 24   # 输入序列长度\n",
    "output_len = 90 * 24  # 每次预测长度（90天）\n",
    "target_len = 365 * 24 # 最终预测长度（365天）\n",
    "\n",
    "# 用于存储预测值\n",
    "rolling_preds = []\n",
    "\n",
    "# 初始输入：X_test 中的第一个样本\n",
    "x = torch.tensor(X_test[0], dtype=torch.float32).unsqueeze(0).to(device)  # shape: (1, 2160, 7)\n",
    "\n",
    "# 加载训练好的最佳模型（假设 run_1 为最优）\n",
    "model = BiLSTM_FullOutput(\n",
    "    input_size=7,\n",
    "    hidden_size=128,\n",
    "    output_len=2160,\n",
    "    num_layers=2,\n",
    "    dropout=0.3\n",
    ").to(device)\n",
    "model.load_state_dict(torch.load(\"output/models/pred90/run_1.pth\"))\n",
    "model.eval()\n",
    "\n",
    "# 预测循环\n",
    "with torch.no_grad():\n",
    "    while len(rolling_preds) * 24 < target_len:\n",
    "        pred = model(x)                  # shape: (1, 2160)\n",
    "        pred_np = pred.squeeze(0).cpu().numpy()\n",
    "        rolling_preds.append(pred_np)   # append 2160 hourly preds\n",
    "\n",
    "        # 构建新的输入窗口：往后滑动90天（或更短）\n",
    "        new_input = x.squeeze(0).cpu().numpy()  # (2160, 7)\n",
    "        next_input = np.zeros_like(new_input)   # 占位新输入\n",
    "        next_input[:-output_len] = new_input[output_len:]  # 后移\n",
    "        # 用预测值填入 Global_active_power（列 0）\n",
    "        next_input[-output_len:, 0] = pred_np\n",
    "\n",
    "        # x 重新赋值\n",
    "        x = torch.tensor(next_input, dtype=torch.float32).unsqueeze(0).to(device)\n",
    "\n",
    "# 拼接预测\n",
    "final_preds_hourly = np.concatenate(rolling_preds, axis=0)[:target_len]  # (8760,)\n",
    "\n",
    "# 聚合为天\n",
    "final_preds_daily = final_preds_hourly.reshape(-1, 24).mean(axis=1)  # shape: (365,)\n",
    "\n",
    "# 输出以供后续可视化\n",
    "import pandas as pd\n",
    "import matplotlib.pyplot as plt\n",
    "\n",
    "plt.figure(figsize=(12, 5))\n",
    "plt.plot(final_preds_daily, label=\"Rolling Forecast\", linewidth=2)\n",
    "plt.xlabel(\"Day\")\n",
    "plt.ylabel(\"Average Power (kW)\")\n",
    "plt.title(\"365-Day Rolling Forecast (90→90)\")\n",
    "plt.grid(True)\n",
    "plt.legend()\n",
    "plt.tight_layout()\n",
    "plt.savefig(\"output/pics/comparison/pred365/rolling_pred_365days.png\", dpi=300)\n",
    "plt.show()"
   ]
  },
  {
   "cell_type": "code",
   "execution_count": null,
   "metadata": {},
   "outputs": [],
   "source": []
  }
 ],
 "metadata": {
  "kernelspec": {
   "display_name": "ml",
   "language": "python",
   "name": "python3"
  },
  "language_info": {
   "codemirror_mode": {
    "name": "ipython",
    "version": 3
   },
   "file_extension": ".py",
   "mimetype": "text/x-python",
   "name": "python",
   "nbconvert_exporter": "python",
   "pygments_lexer": "ipython3",
   "version": "3.10.18"
  }
 },
 "nbformat": 4,
 "nbformat_minor": 2
}
